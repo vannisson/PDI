{
 "cells": [
  {
   "cell_type": "markdown",
   "metadata": {},
   "source": [
    "# Image Stitching"
   ]
  },
  {
   "cell_type": "code",
   "execution_count": 2,
   "metadata": {},
   "outputs": [
    {
     "name": "stdout",
     "output_type": "stream",
     "text": [
      "NumPy version: 1.26.4\n",
      "Matplotlib version: 3.8.0\n",
      "OpenCV version: 4.9.0\n"
     ]
    }
   ],
   "source": [
    "import numpy as np\n",
    "import matplotlib\n",
    "import matplotlib.pyplot as plt\n",
    "import cv2\n",
    "\n",
    "print(\"NumPy version:\", np.__version__)\n",
    "print(\"Matplotlib version:\", matplotlib.__version__)\n",
    "print(\"OpenCV version:\", cv2.__version__)"
   ]
  },
  {
   "cell_type": "code",
   "execution_count": 3,
   "metadata": {},
   "outputs": [
    {
     "name": "stdout",
     "output_type": "stream",
     "text": [
      "[[[212 149  98]\n",
      "  [214 151 100]\n",
      "  [215 152 101]\n",
      "  ...\n",
      "  [ 28  26  16]\n",
      "  [ 29  27  17]\n",
      "  [ 30  28  18]]\n",
      "\n",
      " [[217 154 103]\n",
      "  [213 150  99]\n",
      "  [214 151 100]\n",
      "  ...\n",
      "  [ 27  25  15]\n",
      "  [ 28  26  16]\n",
      "  [ 29  27  17]]\n",
      "\n",
      " [[219 156 105]\n",
      "  [216 153 102]\n",
      "  [216 153 102]\n",
      "  ...\n",
      "  [ 30  28  18]\n",
      "  [ 30  28  18]\n",
      "  [ 30  28  18]]\n",
      "\n",
      " ...\n",
      "\n",
      " [[ 31  71  70]\n",
      "  [ 31  71  70]\n",
      "  [ 32  71  73]\n",
      "  ...\n",
      "  [ 96 100 101]\n",
      "  [ 97  99 100]\n",
      "  [ 97  99 100]]\n",
      "\n",
      " [[ 30  69  71]\n",
      "  [ 29  68  70]\n",
      "  [ 30  69  71]\n",
      "  ...\n",
      "  [ 93  96 100]\n",
      "  [ 94  98  99]\n",
      "  [ 96 100 101]]\n",
      "\n",
      " [[ 31  70  72]\n",
      "  [ 30  69  71]\n",
      "  [ 31  70  72]\n",
      "  ...\n",
      "  [ 90  93  97]\n",
      "  [ 93  97  98]\n",
      "  [ 96 100 101]]]\n"
     ]
    }
   ],
   "source": [
    "images = [cv2.imread(f'../database/image_stitching/ic{i}.jpg') for i in range(1, 5)]\n",
    "print(images[0])"
   ]
  },
  {
   "cell_type": "code",
   "execution_count": 4,
   "metadata": {},
   "outputs": [
    {
     "name": "stdout",
     "output_type": "stream",
     "text": [
      "Panorama created successfully and saved as ic.png\n"
     ]
    }
   ],
   "source": [
    "stitcher = cv2.Stitcher_create()\n",
    "\n",
    "status, stitched_image = stitcher.stitch(images)\n",
    "\n",
    "if status == cv2.Stitcher_OK:\n",
    "    cv2.imwrite('../database/image_stitching/ic_panorama.png', stitched_image)\n",
    "    print(\"Panorama created successfully and saved as ic.png\")\n",
    "else:\n",
    "    print(f\"Image stitching failed with status {status}\")"
   ]
  },
  {
   "cell_type": "code",
   "execution_count": 5,
   "metadata": {},
   "outputs": [],
   "source": [
    "# result = cv2.imread('../database/image_stitching/ic_panorama.png')\n",
    "\n",
    "# image_rgb = cv2.cvtColor(result, cv2.COLOR_BGR2RGB)\n",
    "\n",
    "# plt.imshow(image_rgb)\n",
    "# plt.axis('off')\n",
    "# plt.show()"
   ]
  }
 ],
 "metadata": {
  "kernelspec": {
   "display_name": "Python 3 (ipykernel)",
   "language": "python",
   "name": "python3"
  },
  "language_info": {
   "codemirror_mode": {
    "name": "ipython",
    "version": 3
   },
   "file_extension": ".py",
   "mimetype": "text/x-python",
   "name": "python",
   "nbconvert_exporter": "python",
   "pygments_lexer": "ipython3",
   "version": "3.9.18"
  }
 },
 "nbformat": 4,
 "nbformat_minor": 4
}
